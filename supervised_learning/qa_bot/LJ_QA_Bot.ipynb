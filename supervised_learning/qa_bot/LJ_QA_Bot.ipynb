{
  "nbformat": 4,
  "nbformat_minor": 0,
  "metadata": {
    "colab": {
      "provenance": [],
      "gpuType": "T4",
      "authorship_tag": "ABX9TyOb92jxbWwDb1gY6xgXhsuQ",
      "include_colab_link": true
    },
    "kernelspec": {
      "name": "python3",
      "display_name": "Python 3"
    },
    "language_info": {
      "name": "python"
    },
    "accelerator": "GPU"
  },
  "cells": [
    {
      "cell_type": "markdown",
      "metadata": {
        "id": "view-in-github",
        "colab_type": "text"
      },
      "source": [
        "<a href=\"https://colab.research.google.com/github/LJThao/atlas-machine_learning/blob/main/LJ_QA_Bot.ipynb\" target=\"_parent\"><img src=\"https://colab.research.google.com/assets/colab-badge.svg\" alt=\"Open In Colab\"/></a>"
      ]
    },
    {
      "cell_type": "code",
      "source": [
        "from google.colab import files\n",
        "uploaded = files.upload()"
      ],
      "metadata": {
        "colab": {
          "base_uri": "https://localhost:8080/",
          "height": 73
        },
        "id": "sP8rCFZvyWYq",
        "outputId": "5ad8677d-afa2-4dd1-b432-26d6b409b348"
      },
      "execution_count": 2,
      "outputs": [
        {
          "output_type": "display_data",
          "data": {
            "text/plain": [
              "<IPython.core.display.HTML object>"
            ],
            "text/html": [
              "\n",
              "     <input type=\"file\" id=\"files-6b49aedd-7e29-4cb3-b733-3cf6e8461990\" name=\"files[]\" multiple disabled\n",
              "        style=\"border:none\" />\n",
              "     <output id=\"result-6b49aedd-7e29-4cb3-b733-3cf6e8461990\">\n",
              "      Upload widget is only available when the cell has been executed in the\n",
              "      current browser session. Please rerun this cell to enable.\n",
              "      </output>\n",
              "      <script>// Copyright 2017 Google LLC\n",
              "//\n",
              "// Licensed under the Apache License, Version 2.0 (the \"License\");\n",
              "// you may not use this file except in compliance with the License.\n",
              "// You may obtain a copy of the License at\n",
              "//\n",
              "//      http://www.apache.org/licenses/LICENSE-2.0\n",
              "//\n",
              "// Unless required by applicable law or agreed to in writing, software\n",
              "// distributed under the License is distributed on an \"AS IS\" BASIS,\n",
              "// WITHOUT WARRANTIES OR CONDITIONS OF ANY KIND, either express or implied.\n",
              "// See the License for the specific language governing permissions and\n",
              "// limitations under the License.\n",
              "\n",
              "/**\n",
              " * @fileoverview Helpers for google.colab Python module.\n",
              " */\n",
              "(function(scope) {\n",
              "function span(text, styleAttributes = {}) {\n",
              "  const element = document.createElement('span');\n",
              "  element.textContent = text;\n",
              "  for (const key of Object.keys(styleAttributes)) {\n",
              "    element.style[key] = styleAttributes[key];\n",
              "  }\n",
              "  return element;\n",
              "}\n",
              "\n",
              "// Max number of bytes which will be uploaded at a time.\n",
              "const MAX_PAYLOAD_SIZE = 100 * 1024;\n",
              "\n",
              "function _uploadFiles(inputId, outputId) {\n",
              "  const steps = uploadFilesStep(inputId, outputId);\n",
              "  const outputElement = document.getElementById(outputId);\n",
              "  // Cache steps on the outputElement to make it available for the next call\n",
              "  // to uploadFilesContinue from Python.\n",
              "  outputElement.steps = steps;\n",
              "\n",
              "  return _uploadFilesContinue(outputId);\n",
              "}\n",
              "\n",
              "// This is roughly an async generator (not supported in the browser yet),\n",
              "// where there are multiple asynchronous steps and the Python side is going\n",
              "// to poll for completion of each step.\n",
              "// This uses a Promise to block the python side on completion of each step,\n",
              "// then passes the result of the previous step as the input to the next step.\n",
              "function _uploadFilesContinue(outputId) {\n",
              "  const outputElement = document.getElementById(outputId);\n",
              "  const steps = outputElement.steps;\n",
              "\n",
              "  const next = steps.next(outputElement.lastPromiseValue);\n",
              "  return Promise.resolve(next.value.promise).then((value) => {\n",
              "    // Cache the last promise value to make it available to the next\n",
              "    // step of the generator.\n",
              "    outputElement.lastPromiseValue = value;\n",
              "    return next.value.response;\n",
              "  });\n",
              "}\n",
              "\n",
              "/**\n",
              " * Generator function which is called between each async step of the upload\n",
              " * process.\n",
              " * @param {string} inputId Element ID of the input file picker element.\n",
              " * @param {string} outputId Element ID of the output display.\n",
              " * @return {!Iterable<!Object>} Iterable of next steps.\n",
              " */\n",
              "function* uploadFilesStep(inputId, outputId) {\n",
              "  const inputElement = document.getElementById(inputId);\n",
              "  inputElement.disabled = false;\n",
              "\n",
              "  const outputElement = document.getElementById(outputId);\n",
              "  outputElement.innerHTML = '';\n",
              "\n",
              "  const pickedPromise = new Promise((resolve) => {\n",
              "    inputElement.addEventListener('change', (e) => {\n",
              "      resolve(e.target.files);\n",
              "    });\n",
              "  });\n",
              "\n",
              "  const cancel = document.createElement('button');\n",
              "  inputElement.parentElement.appendChild(cancel);\n",
              "  cancel.textContent = 'Cancel upload';\n",
              "  const cancelPromise = new Promise((resolve) => {\n",
              "    cancel.onclick = () => {\n",
              "      resolve(null);\n",
              "    };\n",
              "  });\n",
              "\n",
              "  // Wait for the user to pick the files.\n",
              "  const files = yield {\n",
              "    promise: Promise.race([pickedPromise, cancelPromise]),\n",
              "    response: {\n",
              "      action: 'starting',\n",
              "    }\n",
              "  };\n",
              "\n",
              "  cancel.remove();\n",
              "\n",
              "  // Disable the input element since further picks are not allowed.\n",
              "  inputElement.disabled = true;\n",
              "\n",
              "  if (!files) {\n",
              "    return {\n",
              "      response: {\n",
              "        action: 'complete',\n",
              "      }\n",
              "    };\n",
              "  }\n",
              "\n",
              "  for (const file of files) {\n",
              "    const li = document.createElement('li');\n",
              "    li.append(span(file.name, {fontWeight: 'bold'}));\n",
              "    li.append(span(\n",
              "        `(${file.type || 'n/a'}) - ${file.size} bytes, ` +\n",
              "        `last modified: ${\n",
              "            file.lastModifiedDate ? file.lastModifiedDate.toLocaleDateString() :\n",
              "                                    'n/a'} - `));\n",
              "    const percent = span('0% done');\n",
              "    li.appendChild(percent);\n",
              "\n",
              "    outputElement.appendChild(li);\n",
              "\n",
              "    const fileDataPromise = new Promise((resolve) => {\n",
              "      const reader = new FileReader();\n",
              "      reader.onload = (e) => {\n",
              "        resolve(e.target.result);\n",
              "      };\n",
              "      reader.readAsArrayBuffer(file);\n",
              "    });\n",
              "    // Wait for the data to be ready.\n",
              "    let fileData = yield {\n",
              "      promise: fileDataPromise,\n",
              "      response: {\n",
              "        action: 'continue',\n",
              "      }\n",
              "    };\n",
              "\n",
              "    // Use a chunked sending to avoid message size limits. See b/62115660.\n",
              "    let position = 0;\n",
              "    do {\n",
              "      const length = Math.min(fileData.byteLength - position, MAX_PAYLOAD_SIZE);\n",
              "      const chunk = new Uint8Array(fileData, position, length);\n",
              "      position += length;\n",
              "\n",
              "      const base64 = btoa(String.fromCharCode.apply(null, chunk));\n",
              "      yield {\n",
              "        response: {\n",
              "          action: 'append',\n",
              "          file: file.name,\n",
              "          data: base64,\n",
              "        },\n",
              "      };\n",
              "\n",
              "      let percentDone = fileData.byteLength === 0 ?\n",
              "          100 :\n",
              "          Math.round((position / fileData.byteLength) * 100);\n",
              "      percent.textContent = `${percentDone}% done`;\n",
              "\n",
              "    } while (position < fileData.byteLength);\n",
              "  }\n",
              "\n",
              "  // All done.\n",
              "  yield {\n",
              "    response: {\n",
              "      action: 'complete',\n",
              "    }\n",
              "  };\n",
              "}\n",
              "\n",
              "scope.google = scope.google || {};\n",
              "scope.google.colab = scope.google.colab || {};\n",
              "scope.google.colab._files = {\n",
              "  _uploadFiles,\n",
              "  _uploadFilesContinue,\n",
              "};\n",
              "})(self);\n",
              "</script> "
            ]
          },
          "metadata": {}
        },
        {
          "output_type": "stream",
          "name": "stdout",
          "text": [
            "Saving zendeskarticles.zip to zendeskarticles.zip\n"
          ]
        }
      ]
    },
    {
      "cell_type": "code",
      "source": [
        "import zipfile\n",
        "\n",
        "with zipfile.ZipFile(\"zendeskarticles.zip\", \"r\") as zip_ref:\n",
        "    zip_ref.extractall(\"zendeskarticles\")"
      ],
      "metadata": {
        "id": "jh9xzduAyzYr"
      },
      "execution_count": 3,
      "outputs": []
    },
    {
      "cell_type": "code",
      "source": [
        "import os\n",
        "\n",
        "print(os.listdir(\"zendeskarticles\"))"
      ],
      "metadata": {
        "colab": {
          "base_uri": "https://localhost:8080/"
        },
        "id": "myHmxCe1y64b",
        "outputId": "7f526a27-f723-4f92-c018-a7560f9c2158"
      },
      "execution_count": 4,
      "outputs": [
        {
          "output_type": "stream",
          "name": "stdout",
          "text": [
            "['__MACOSX', 'ZendeskArticles']\n"
          ]
        }
      ]
    },
    {
      "cell_type": "code",
      "source": [
        "!pip install --user tensorflow-hub==0.15.0\n",
        "!pip install --user transformers==4.44.2"
      ],
      "metadata": {
        "id": "xKKIul83rwE8"
      },
      "execution_count": null,
      "outputs": []
    },
    {
      "cell_type": "markdown",
      "source": [
        "0-qa.py file - Question Answering - Task 0"
      ],
      "metadata": {
        "id": "BVmL_Rmzx8yd"
      }
    },
    {
      "cell_type": "code",
      "execution_count": 34,
      "metadata": {
        "id": "Y8wnS-HFbW-t"
      },
      "outputs": [],
      "source": [
        "#!/usr/bin/env python3\n",
        "\"\"\"Question Answering Module\"\"\"\n",
        "import tensorflow_hub as hub\n",
        "import tensorflow as tf\n",
        "from transformers import BertTokenizer\n",
        "\n",
        "\n",
        "def question_answer(question, reference):\n",
        "    \"\"\"Function that finds a snippet of text within a reference document to\n",
        "    answer a question:\n",
        "\n",
        "    question is a string containing the question to answer\n",
        "    reference is a string containing the reference document from which to\n",
        "    find the answer\n",
        "    Returns: a string containing the answer\n",
        "    If no answer is found, return None\n",
        "    Your function should use the bert-uncased-tf2-qa model from the\n",
        "    tensorflow-hub library\n",
        "    Your function should use the pre-trained BertTokenizer,\n",
        "    bert-large-uncased-whole-word-masking-finetuned-squad, from the\n",
        "    transformers library\n",
        "\n",
        "    \"\"\"\n",
        "    # load resources\n",
        "    tokenizer = BertTokenizer.from_pretrained(\n",
        "        \"bert-large-uncased-whole-word-masking-finetuned-squad\")\n",
        "    model = hub.load(\"https://tfhub.dev/see--/bert-uncased-tf2-qa/1\")\n",
        "\n",
        "    # tokenize input using tokenizer API\n",
        "    q_tokens = tokenizer.tokenize(question)\n",
        "    r_tokens = tokenizer.tokenize(reference)\n",
        "\n",
        "    # special token formatting\n",
        "    tokens = [\"[CLS]\"] + q_tokens + [\"[SEP]\"] + r_tokens + [\"[SEP]\"]\n",
        "    input_ids = tokenizer.convert_tokens_to_ids(tokens)\n",
        "\n",
        "    # segment and attention masks\n",
        "    q_len = len(q_tokens) + 2\n",
        "    segment_ids = [0] * q_len + [1] * (len(r_tokens) + 1)\n",
        "    attention_mask = [1] * len(input_ids)\n",
        "\n",
        "    # convert to tensors\n",
        "    ids = tf.constant([input_ids])\n",
        "    mask = tf.constant([attention_mask])\n",
        "    segments = tf.constant([segment_ids])\n",
        "\n",
        "    # predict start and end\n",
        "    start_idx = tf.argmax(model([ids, mask, segments])[0][0][1:]) + 1\n",
        "    end_idx = tf.argmax(model([ids, mask, segments])[1][0][1:]) + 1\n",
        "\n",
        "    # handle invalid span\n",
        "    if start_idx >= end_idx:\n",
        "        return None\n",
        "\n",
        "    # return decoded text\n",
        "    return tokenizer.convert_tokens_to_string(tokens[start_idx:end_idx+1]).strip()\n"
      ]
    },
    {
      "cell_type": "code",
      "source": [
        "answer_question = question_answer"
      ],
      "metadata": {
        "id": "l03jM5mS5yo3"
      },
      "execution_count": 35,
      "outputs": []
    },
    {
      "cell_type": "code",
      "source": [
        "with open('/content/zendeskarticles/ZendeskArticles/PeerLearningDays.md') as f:\n",
        "    reference = f.read()\n",
        "\n",
        "print(question_answer('When are PLDs?', reference))"
      ],
      "metadata": {
        "colab": {
          "base_uri": "https://localhost:8080/"
        },
        "id": "ZHlrBu4Dzn58",
        "outputId": "9a09ab1e-aa63-44f0-c30a-1a05e3577c66"
      },
      "execution_count": 36,
      "outputs": [
        {
          "output_type": "stream",
          "name": "stdout",
          "text": [
            "on - site days from 9 : 00 am to 3 : 00 pm\n"
          ]
        }
      ]
    },
    {
      "cell_type": "markdown",
      "source": [
        "1-loop.py file - Create the loop - Task 1"
      ],
      "metadata": {
        "id": "IPZJSBKUbbXk"
      }
    },
    {
      "cell_type": "code",
      "source": [
        "#!/usr/bin/env python3\n",
        "\"\"\"Create the loop Module\n",
        "Create a script that takes in input from the user with the prompt Q: and\n",
        "prints A: as a response. If the user inputs exit, quit, goodbye, or bye,\n",
        "case insensitive, print A: Goodbye and exit.\n",
        "\"\"\"\n",
        "\n",
        "# QA loop\n",
        "while True:\n",
        "    question = input(\"Q: \")\n",
        "    if question.lower() in [\"exit\", \"quit\", \"goodbye\", \"bye\"]:\n",
        "        print(\"A: Goodbye\")\n",
        "        break\n",
        "    print(\"A:\")"
      ],
      "metadata": {
        "colab": {
          "base_uri": "https://localhost:8080/"
        },
        "id": "-Bk2909AbYE9",
        "outputId": "c48ade71-d6b1-4104-b5cd-ade80dbe895f"
      },
      "execution_count": 7,
      "outputs": [
        {
          "output_type": "stream",
          "name": "stdout",
          "text": [
            "Q: Hello\n",
            "A:\n",
            "Q: How are you?\n",
            "A:\n",
            "Q: BYE\n",
            "A: Goodbye\n"
          ]
        }
      ]
    },
    {
      "cell_type": "markdown",
      "source": [
        "2-qa.py file - Answer Questions - Task 2"
      ],
      "metadata": {
        "id": "7vee3OiFjhNl"
      }
    },
    {
      "cell_type": "code",
      "source": [
        "#!/usr/bin/enb python3\n",
        "\"\"\"Answer Questions Module\"\"\"\n",
        "EXIT_COMMANDS = {\"exit\", \"quit\", \"bye\", \"goodbye\"}\n",
        "\n",
        "\n",
        "def answer_loop(reference):\n",
        "    \"\"\"Function that answers questions from a reference text:\n",
        "\n",
        "    reference is the reference text\n",
        "    If the answer cannot be found in the reference text, respond\n",
        "    with Sorry, I do not understand your question.\n",
        "\n",
        "    \"\"\"\n",
        "    while True:\n",
        "        try:\n",
        "            q = input(\"Q: \").strip()\n",
        "        except (EOFError, KeyboardInterrupt):\n",
        "            print(\"\\nA: Goodbye\")\n",
        "            break\n",
        "\n",
        "        if q.lower() in EXIT_COMMANDS:\n",
        "            print(\"A: Goodbye\")\n",
        "            break\n",
        "\n",
        "        ans = question_answer(q, reference)\n",
        "        print(\"A:\", ans or \"Sorry, I do not understand your question.\")"
      ],
      "metadata": {
        "id": "HHdfnzyGjoKk"
      },
      "execution_count": 23,
      "outputs": []
    },
    {
      "cell_type": "code",
      "source": [
        "with open(\"/content/zendeskarticles/ZendeskArticles/PeerLearningDays.md\") as f:\n",
        "    reference = f.read()"
      ],
      "metadata": {
        "id": "n1CJ8HE-yAR0"
      },
      "execution_count": 24,
      "outputs": []
    },
    {
      "cell_type": "code",
      "source": [
        "answer_loop(reference)"
      ],
      "metadata": {
        "colab": {
          "base_uri": "https://localhost:8080/"
        },
        "id": "KE0jimPOyDU0",
        "outputId": "73c54e2e-3328-442c-bd4e-1779cfc86bea"
      },
      "execution_count": 14,
      "outputs": [
        {
          "output_type": "stream",
          "name": "stdout",
          "text": [
            "Q: When are PLDs?\n",
            "A: on - site days from 9 : 00 am to 3 : 00 pm\n",
            "Q: What are Mock Interviews?\n",
            "A: Sorry, I do not understand your question.\n",
            "Q: What does PLD stand for?\n",
            "A: peer learning days\n",
            "Q: EXIT\n",
            "A: Goodbye\n"
          ]
        }
      ]
    },
    {
      "cell_type": "markdown",
      "source": [
        "3-semantic_search.py file - Semantic Search - Task 3"
      ],
      "metadata": {
        "id": "l02-OuWnyzPS"
      }
    },
    {
      "cell_type": "code",
      "source": [
        "#!/usr/bin/env python3\n",
        "\"\"\"Semantic Search Module\"\"\"\n",
        "import os\n",
        "import numpy as np\n",
        "import tensorflow_hub as hub\n",
        "\n",
        "\n",
        "def semantic_search(corpus_path, sentence):\n",
        "    \"\"\"Function that performs semantic search on a corpus of documents:\n",
        "\n",
        "    corpus_path is the path to the corpus of reference documents on which\n",
        "    to perform semantic search\n",
        "    sentence is the sentence from which to perform semantic search\n",
        "    Returns: the reference text of the document most similar to sentence\n",
        "\n",
        "    \"\"\"\n",
        "    # list to hold the input sentence and reference documents\n",
        "    texts = [sentence]\n",
        "\n",
        "    # load reference documents\n",
        "    for filename in os.listdir(corpus_path):\n",
        "        if filename.endswith(\".md\"):\n",
        "            file_path = os.path.join(corpus_path, filename)\n",
        "            with open(file_path, \"r\", encoding=\"utf-8\") as f:\n",
        "                texts.append(f.read())\n",
        "\n",
        "    # load Universal Sentence Encoder model\n",
        "    model = hub.load(\n",
        "        \"https://tfhub.dev/google/universal-sentence-encoder-large/5\")\n",
        "    embeddings = model(texts)\n",
        "\n",
        "    # compute cosine similarities between input sentence and each document\n",
        "    input_vector = embeddings[0]\n",
        "    similarities = [\n",
        "        np.dot(input_vector, doc_vec) /\n",
        "        (np.linalg.norm(input_vector) * np.linalg.norm(doc_vec))\n",
        "        for doc_vec in embeddings[1:]\n",
        "    ]\n",
        "\n",
        "    # find the most similar document\n",
        "    reference_task = texts[np.argmax(similarities) + 1]\n",
        "    return reference_task\n"
      ],
      "metadata": {
        "id": "bTDb6YavylFd"
      },
      "execution_count": 7,
      "outputs": []
    },
    {
      "cell_type": "code",
      "source": [
        "result = semantic_search(\"/content/zendeskarticles/ZendeskArticles\", \"When are PLDs?\")\n",
        "print(result)"
      ],
      "metadata": {
        "colab": {
          "base_uri": "https://localhost:8080/"
        },
        "id": "cBt6tn4X9dny",
        "outputId": "cf19af51-b01f-45ab-ec4d-90dc9a4cc64b"
      },
      "execution_count": 8,
      "outputs": [
        {
          "output_type": "stream",
          "name": "stdout",
          "text": [
            "PLD Overview\n",
            "Peer Learning Days (PLDs) are a time for you and your peers to ensure that each of you understands the concepts you've encountered in your projects, as well as a time for everyone to collectively grow in technical, professional, and soft skills. During PLD, you will collaboratively review prior projects with a group of cohort peers.\n",
            "PLD Basics\n",
            "PLDs are mandatory on-site days from 9:00 AM to 3:00 PM. If you cannot be present or on time, you must use a PTO. \n",
            "No laptops, tablets, or screens are allowed until all tasks have been whiteboarded and understood by the entirety of your group. This time is for whiteboarding, dialogue, and active peer collaboration. After this, you may return to computers with each other to pair or group program. \n",
            "Peer Learning Days are not about sharing solutions. This doesn't empower peers with the ability to solve problems themselves! Peer learning is when you share your thought process, whether through conversation, whiteboarding, debugging, or live coding. \n",
            "When a peer has a question, rather than offering the solution, ask the following:\n",
            "\"How did you come to that conclusion?\"\n",
            "\"What have you tried?\"\n",
            "\"Did the man page give you a lead?\"\n",
            "\"Did you think about this concept?\"\n",
            "Modeling this form of thinking for one another is invaluable and will strengthen your entire cohort.\n",
            "Your ability to articulate your knowledge is a crucial skill and will be required to succeed during technical interviews and through your career. \n",
            "\n"
          ]
        }
      ]
    },
    {
      "cell_type": "markdown",
      "source": [
        "4-qa.py file - Multi-reference Question Answering - Task 4"
      ],
      "metadata": {
        "id": "9XeFpCHLqwin"
      }
    },
    {
      "cell_type": "code",
      "source": [
        "#!/usr/bin/env python3\n",
        "\"\"\"Multi-reference Question Answering Module\"\"\"\n",
        "EXIT_COMMANDS = {\"exit\", \"quit\", \"bye\", \"goodbye\"}\n",
        "\n",
        "\n",
        "def question_answer(corpus_path):\n",
        "    \"\"\"Function that answers questions from multiple reference texts:\n",
        "\n",
        "    corpus_path is the path to the corpus of reference documents\n",
        "\n",
        "    \"\"\"\n",
        "    while True:\n",
        "        try:\n",
        "            q = input(\"Q: \").strip()\n",
        "        except (EOFError, KeyboardInterrupt):\n",
        "            print(\"\\nA: Goodbye\")\n",
        "            break\n",
        "\n",
        "        if q.lower() in EXIT_COMMANDS:\n",
        "            print(\"A: Goodbye\")\n",
        "            break\n",
        "\n",
        "        ref = semantic_search(corpus_path, q)\n",
        "        ans = answer_question(q, ref)\n",
        "        print(\"A:\", ans or \"Sorry, I do not understand your question.\")"
      ],
      "metadata": {
        "id": "TbBFYoaKaZKP"
      },
      "execution_count": 37,
      "outputs": []
    },
    {
      "cell_type": "code",
      "source": [
        "question_answer(\"/content/zendeskarticles/ZendeskArticles\")"
      ],
      "metadata": {
        "colab": {
          "base_uri": "https://localhost:8080/"
        },
        "id": "9ihOGS57uLLQ",
        "outputId": "1d60bba6-8a0f-40eb-cf0a-04f5f2035d24"
      },
      "execution_count": 38,
      "outputs": [
        {
          "output_type": "stream",
          "name": "stdout",
          "text": [
            "Q: When are PLDs?\n",
            "A: on - site days from 9 : 00 am to 3 : 00 pm\n",
            "Q: What are Mock Interviews?\n",
            "A: help you train for technical interviews\n",
            "Q: What does PLD stand for?\n",
            "A: peer learning days\n",
            "Q: goodbye\n",
            "A: Goodbye\n"
          ]
        }
      ]
    },
    {
      "cell_type": "code",
      "source": [],
      "metadata": {
        "id": "cqvny9sX7CjH"
      },
      "execution_count": null,
      "outputs": []
    }
  ]
}